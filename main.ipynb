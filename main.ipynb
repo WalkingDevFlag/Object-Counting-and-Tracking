{
  "cells": [
    {
      "cell_type": "code",
      "execution_count": 1,
      "metadata": {},
      "outputs": [],
      "source": [
        "import os\n",
        "import csv\n",
        "import numpy as np\n",
        "import supervision as sv\n",
        "from ultralytics import YOLO"
      ]
    },
    {
      "cell_type": "code",
      "execution_count": 2,
      "metadata": {},
      "outputs": [],
      "source": [
        "# --- Setup paths and parameters ---\n",
        "INPUT_VIDEO_PATH = r\"E:/Random Python Scripts/Tata HaxS/supervision/input/dented_car_video_720p.mp4\"  # Path to your input video\n",
        "OUTPUT_VIDEO_PATH = os.path.join(os.getcwd(), \"results.mp4\")  # Output video path\n",
        "CSV_OUTPUT_PATH = os.path.join(os.getcwd(), \"tracking_results.csv\")\n",
        "MODEL_PATH = r\"E:/Random Python Scripts/Tata HaxS/supervision/model/best.pt\"  # Path to your custom YOLOv8 weights file"
      ]
    },
    {
      "cell_type": "code",
      "execution_count": 3,
      "metadata": {},
      "outputs": [],
      "source": [
        "# --- Load YOLOv8 model and set up classes ---\n",
        "model = YOLO(MODEL_PATH)\n",
        "CLASS_NAMES_DICT = model.model.names  # e.g., {0: \"dent\", 1: \"scratch\"}"
      ]
    },
    {
      "cell_type": "code",
      "execution_count": 4,
      "metadata": {},
      "outputs": [],
      "source": [
        "# Only count our selected classes\n",
        "SELECTED_CLASSES = ['dent', 'scratch']\n",
        "SELECTED_CLASS_IDS = [class_id for class_id, name in CLASS_NAMES_DICT.items() if name in SELECTED_CLASSES]"
      ]
    },
    {
      "cell_type": "code",
      "execution_count": 5,
      "metadata": {},
      "outputs": [],
      "source": [
        "# --- Initialize the ByteTracker ---\n",
        "byte_tracker = sv.ByteTrack(\n",
        "    track_activation_threshold=0.25,\n",
        "    lost_track_buffer=30,\n",
        "    minimum_matching_threshold=0.8,\n",
        "    frame_rate=30,\n",
        "    minimum_consecutive_frames=3\n",
        ")"
      ]
    },
    {
      "cell_type": "code",
      "execution_count": 6,
      "metadata": {},
      "outputs": [],
      "source": [
        "# --- Global dictionaries for unique counts and tracking records ---\n",
        "unique_counts = {class_name: set() for class_name in SELECTED_CLASSES}\n",
        "# # tracking_records will store one record per detection (one row per detection)\n",
        "# tracking_records = []"
      ]
    },
    {
      "cell_type": "code",
      "execution_count": 7,
      "metadata": {},
      "outputs": [],
      "source": [
        "# --- Create the frame generator ---\n",
        "generator = sv.get_video_frames_generator(INPUT_VIDEO_PATH)"
      ]
    },
    {
      "cell_type": "code",
      "execution_count": 8,
      "metadata": {},
      "outputs": [],
      "source": [
        "# --- Define the callback function for processing frames ---\n",
        "def callback(frame: np.ndarray, index: int) -> np.ndarray:\n",
        "    # Run YOLO inference on the current frame.\n",
        "    results = model(frame, verbose=False)[0]\n",
        "    detections = sv.Detections.from_ultralytics(results)\n",
        "    \n",
        "    # Filter detections to only include our selected classes.\n",
        "    mask = np.isin(detections.class_id, SELECTED_CLASS_IDS)\n",
        "    detections = detections[mask]\n",
        "    \n",
        "    # Update the tracker with these detections.\n",
        "    detections = byte_tracker.update_with_detections(detections)\n",
        "    \n",
        "    # For each detection, add its tracker ID to the overall unique count.\n",
        "    for conf, class_id, tracker_id in zip(detections.confidence, detections.class_id, detections.tracker_id):\n",
        "        if tracker_id is not None:\n",
        "            class_name = CLASS_NAMES_DICT[class_id]\n",
        "            unique_counts[class_name].add(tracker_id)\n",
        "    \n",
        "    # (Optional) Annotate the frame for visual feedback.\n",
        "    annotated_frame = frame.copy()\n",
        "    box_annotator = sv.BoxAnnotator(thickness=2)\n",
        "    label_annotator = sv.LabelAnnotator(text_thickness=1, text_scale=0.8, text_color=sv.Color.WHITE)\n",
        "    labels = [\n",
        "        f\"#{tracker_id} {CLASS_NAMES_DICT[class_id]} {conf:0.2f}\"\n",
        "        for conf, class_id, tracker_id in zip(detections.confidence, detections.class_id, detections.tracker_id)\n",
        "    ]\n",
        "    annotated_frame = box_annotator.annotate(scene=annotated_frame, detections=detections)\n",
        "    annotated_frame = label_annotator.annotate(scene=annotated_frame, detections=detections, labels=labels)\n",
        "    \n",
        "    return annotated_frame"
      ]
    },
    {
      "cell_type": "code",
      "execution_count": 9,
      "metadata": {},
      "outputs": [
        {
          "name": "stdout",
          "output_type": "stream",
          "text": [
            "Unique counts over the entire video:\n",
            "dent: 15\n",
            "scratch: 12\n"
          ]
        }
      ],
      "source": [
        "# --- Process the video ---\n",
        "sv.process_video(\n",
        "    source_path=INPUT_VIDEO_PATH,\n",
        "    target_path=OUTPUT_VIDEO_PATH,\n",
        "    callback=callback\n",
        ")\n",
        "\n",
        "# --- After processing, print unique counts ---\n",
        "print(\"Unique counts over the entire video:\")\n",
        "for class_name, track_ids in unique_counts.items():\n",
        "    print(f\"{class_name}: {len(track_ids)}\")"
      ]
    },
    {
      "cell_type": "code",
      "execution_count": 10,
      "metadata": {},
      "outputs": [
        {
          "name": "stdout",
          "output_type": "stream",
          "text": [
            "Annotated video saved to: e:\\Random Python Scripts\\Tata HaxS\\supervision\\results.mp4\n",
            "Tracking details saved to: e:\\Random Python Scripts\\Tata HaxS\\supervision\\tracking_results.csv\n"
          ]
        }
      ],
      "source": [
        "# --- Save the tracking records to a CSV file ---\n",
        "csv_fields = [\"class_name\", \"unique_count\", \"unique_tracker_ids\"]\n",
        "with open(CSV_OUTPUT_PATH, mode=\"w\", newline=\"\") as csv_file:\n",
        "    writer = csv.DictWriter(csv_file, fieldnames=csv_fields)\n",
        "    writer.writeheader()\n",
        "    for class_name, track_ids in unique_counts.items():\n",
        "        writer.writerow({\n",
        "            \"class_name\": class_name,\n",
        "            \"unique_count\": len(track_ids),\n",
        "            \"unique_tracker_ids\": \";\".join(str(tid) for tid in track_ids)\n",
        "        })\n",
        "\n",
        "print(f\"Annotated video saved to: {OUTPUT_VIDEO_PATH}\")\n",
        "print(f\"Tracking details saved to: {CSV_OUTPUT_PATH}\")"
      ]
    }
  ],
  "metadata": {
    "accelerator": "GPU",
    "colab": {
      "gpuType": "T4",
      "provenance": []
    },
    "kernelspec": {
      "display_name": "Haxs",
      "language": "python",
      "name": "python3"
    },
    "language_info": {
      "codemirror_mode": {
        "name": "ipython",
        "version": 3
      },
      "file_extension": ".py",
      "mimetype": "text/x-python",
      "name": "python",
      "nbconvert_exporter": "python",
      "pygments_lexer": "ipython3",
      "version": "3.10.16"
    }
  },
  "nbformat": 4,
  "nbformat_minor": 0
}
